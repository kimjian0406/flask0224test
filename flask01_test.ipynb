{
  "nbformat": 4,
  "nbformat_minor": 0,
  "metadata": {
    "colab": {
      "provenance": [],
      "authorship_tag": "ABX9TyNggPpDsAy9z8Oy8v5HQo0g"
    },
    "kernelspec": {
      "name": "python3",
      "display_name": "Python 3"
    },
    "language_info": {
      "name": "python"
    }
  },
  "cells": [
    {
      "cell_type": "markdown",
      "source": [
        "Flask와 Jinja 템플릿으로 사용자 목록 웹 페이지 만들어보기"
      ],
      "metadata": {
        "id": "cU_IRxXnrV3r"
      }
    },
    {
      "cell_type": "code",
      "source": [
        "from flask import Flask, jsonify\n",
        "\n",
        "app = Flask(__name__)\n",
        "\n",
        "# 새로운 사용자 목록 예제 데이터\n",
        "users = [\n",
        "    {\"username\": \"adventurer\", \"name\": \"Jordan\"},\n",
        "    {\"username\": \"artist\", \"name\": \"Taylor\"},\n",
        "    {\"username\": \"chef\", \"name\": \"Morgan\"}\n",
        "]\n",
        "\n",
        "@app.route('/')\n",
        "def home():\n",
        "    return jsonify({\"users\": users})\n",
        "\n",
        "if __name__ == '__main__':\n",
        "    app.run(debug=True)\n"
      ],
      "metadata": {
        "id": "RAsjfeI7raHa"
      },
      "execution_count": null,
      "outputs": []
    },
    {
      "cell_type": "markdown",
      "source": [
        "Jinja 템플릿 작성: templates 폴더 안에 index.html 파일을 만들고, Jinja 템플릿을 사용하여 사용자 목록을 HTML로 렌더링하세요."
      ],
      "metadata": {
        "id": "BXzTgNeMrq35"
      }
    },
    {
      "cell_type": "code",
      "source": [
        "<!DOCTYPE html>\n",
        "<html lang=\"en\">\n",
        "<head>\n",
        "    <meta charset=\"UTF-8\">\n",
        "    <meta name=\"viewport\" content=\"width=device-width, initial-scale=1.0\">\n",
        "    <title>User List</title>\n",
        "</head>\n",
        "<body>\n",
        "    <h1>User List</h1>\n",
        "    <ul>\n",
        "        {% for user in users %}\n",
        "            <li>{{ user.name }} ({{ user.username }})</li>\n",
        "        {% endfor %}\n",
        "    </ul>\n",
        "</body>\n",
        "</html>"
      ],
      "metadata": {
        "id": "MVsuW0yUr_XU"
      },
      "execution_count": null,
      "outputs": []
    },
    {
      "cell_type": "markdown",
      "source": [
        "\n",
        "- **웹 페이지 디자인**: **index.html**에서 각 사용자의 이름(**name**)과 사용자 이름(**username**)을 목록 형태로 표시하세요."
      ],
      "metadata": {
        "id": "zL-kwhCVug_R"
      }
    },
    {
      "cell_type": "code",
      "source": [
        "<!DOCTYPE html>\n",
        "<html lang=\"en\">\n",
        "<head>\n",
        "    <meta charset=\"UTF-8\">\n",
        "    <meta name=\"viewport\" content=\"width=device-width, initial-scale=1.0\">\n",
        "    <title>User List</title>\n",
        "    <style>\n",
        "        body {\n",
        "            font-family: Arial, sans-serif;\n",
        "            margin: 20px;\n",
        "            padding: 20px;\n",
        "            background-color: #f4f4f4;\n",
        "        }\n",
        "        h1 {\n",
        "            text-align: center;\n",
        "        }\n",
        "        .user-list {\n",
        "            list-style: none;\n",
        "            padding: 0;\n",
        "        }\n",
        "        .user-item {\n",
        "            background: white;\n",
        "            margin: 10px 0;\n",
        "            padding: 15px;\n",
        "            border-radius: 5px;\n",
        "            box-shadow: 0 0 5px rgba(0, 0, 0, 0.1);\n",
        "        }\n",
        "        .username {\n",
        "            font-weight: bold;\n",
        "            color: #555;\n",
        "        }\n",
        "    </style>\n",
        "</head>\n",
        "<body>\n",
        "    <h1>User List</h1>\n",
        "    <ul class=\"user-list\">\n",
        "        {% for user in users %}\n",
        "            <li class=\"user-item\">\n",
        "                <span class=\"username\">{{ user.username }}</span> - {{ user.name }}\n",
        "            </li>\n",
        "        {% endfor %}\n",
        "    </ul>\n",
        "</body>\n",
        "</html>\n"
      ],
      "metadata": {
        "id": "Z1x5bLc5uiNT"
      },
      "execution_count": null,
      "outputs": []
    },
    {
      "cell_type": "markdown",
      "source": [
        "애플리케이션 실행 및 테스트: Flask 애플리케이션을 실행하고, 브라우저에서 http://localhost:5000/ 주소로 접속하여 결과를 확인하세요."
      ],
      "metadata": {
        "id": "CFZxsQtCulVM"
      }
    },
    {
      "cell_type": "code",
      "source": [
        "from flask import Flask, render_template\n",
        "\n",
        "app = Flask(__name__)\n",
        "\n",
        "# 새로운 사용자 목록 예제 데이터\n",
        "users = [\n",
        "    {\"username\": \"adventurer\", \"name\": \"Jordan\"},\n",
        "    {\"username\": \"artist\", \"name\": \"Taylor\"},\n",
        "    {\"username\": \"chef\", \"name\": \"Morgan\"}\n",
        "]\n",
        "\n",
        "@app.route('/')\n",
        "def home():\n",
        "    return render_template('index.html', users=users)\n",
        "\n",
        "if __name__ == '__main__':\n",
        "    app.run(debug=True)"
      ],
      "metadata": {
        "id": "FoWQvPD1utrW"
      },
      "execution_count": null,
      "outputs": []
    },
    {
      "cell_type": "markdown",
      "source": [],
      "metadata": {
        "id": "pzxNe9Xruw3f"
      }
    }
  ]
}